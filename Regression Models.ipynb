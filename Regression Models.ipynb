{
  "nbformat": 4,
  "nbformat_minor": 0,
  "metadata": {
    "colab": {
      "name": "CW-2_Q.No-2.ipynb",
      "provenance": []
    },
    "kernelspec": {
      "name": "python3",
      "display_name": "Python 3"
    }
  },
  "cells": [
    {
      "cell_type": "code",
      "metadata": {
        "colab": {
          "base_uri": "https://localhost:8080/",
          "height": 195
        },
        "id": "HcERsId26H2E",
        "outputId": "c9d1a91d-c2aa-4f94-b8c5-b63662b3c6c3"
      },
      "source": [
        "import pandas as pd\n",
        "data = pd.read_csv('/content/drive/MyDrive/MLDM /Course Work-2/Insurance cross sell.csv')\n",
        "data.head()"
      ],
      "execution_count": 31,
      "outputs": [
        {
          "output_type": "execute_result",
          "data": {
            "text/html": [
              "<div>\n",
              "<style scoped>\n",
              "    .dataframe tbody tr th:only-of-type {\n",
              "        vertical-align: middle;\n",
              "    }\n",
              "\n",
              "    .dataframe tbody tr th {\n",
              "        vertical-align: top;\n",
              "    }\n",
              "\n",
              "    .dataframe thead th {\n",
              "        text-align: right;\n",
              "    }\n",
              "</style>\n",
              "<table border=\"1\" class=\"dataframe\">\n",
              "  <thead>\n",
              "    <tr style=\"text-align: right;\">\n",
              "      <th></th>\n",
              "      <th>id</th>\n",
              "      <th>Gender</th>\n",
              "      <th>Age</th>\n",
              "      <th>Driving_License</th>\n",
              "      <th>Region_Code</th>\n",
              "      <th>Previously_Insured</th>\n",
              "      <th>Vehicle_Age</th>\n",
              "      <th>Vehicle_Damage</th>\n",
              "      <th>Annual_Premium</th>\n",
              "      <th>Policy_Sales_Channel</th>\n",
              "      <th>Vintage</th>\n",
              "      <th>Response</th>\n",
              "    </tr>\n",
              "  </thead>\n",
              "  <tbody>\n",
              "    <tr>\n",
              "      <th>0</th>\n",
              "      <td>1</td>\n",
              "      <td>Male</td>\n",
              "      <td>44</td>\n",
              "      <td>1</td>\n",
              "      <td>28.0</td>\n",
              "      <td>0</td>\n",
              "      <td>&gt; 2 Years</td>\n",
              "      <td>Yes</td>\n",
              "      <td>40454.0</td>\n",
              "      <td>26.0</td>\n",
              "      <td>217</td>\n",
              "      <td>1</td>\n",
              "    </tr>\n",
              "    <tr>\n",
              "      <th>1</th>\n",
              "      <td>2</td>\n",
              "      <td>Male</td>\n",
              "      <td>76</td>\n",
              "      <td>1</td>\n",
              "      <td>3.0</td>\n",
              "      <td>0</td>\n",
              "      <td>1-2 Year</td>\n",
              "      <td>No</td>\n",
              "      <td>33536.0</td>\n",
              "      <td>26.0</td>\n",
              "      <td>183</td>\n",
              "      <td>0</td>\n",
              "    </tr>\n",
              "    <tr>\n",
              "      <th>2</th>\n",
              "      <td>3</td>\n",
              "      <td>Male</td>\n",
              "      <td>47</td>\n",
              "      <td>1</td>\n",
              "      <td>28.0</td>\n",
              "      <td>0</td>\n",
              "      <td>&gt; 2 Years</td>\n",
              "      <td>Yes</td>\n",
              "      <td>38294.0</td>\n",
              "      <td>26.0</td>\n",
              "      <td>27</td>\n",
              "      <td>1</td>\n",
              "    </tr>\n",
              "    <tr>\n",
              "      <th>3</th>\n",
              "      <td>4</td>\n",
              "      <td>Male</td>\n",
              "      <td>21</td>\n",
              "      <td>1</td>\n",
              "      <td>11.0</td>\n",
              "      <td>1</td>\n",
              "      <td>&lt; 1 Year</td>\n",
              "      <td>No</td>\n",
              "      <td>28619.0</td>\n",
              "      <td>152.0</td>\n",
              "      <td>203</td>\n",
              "      <td>0</td>\n",
              "    </tr>\n",
              "    <tr>\n",
              "      <th>4</th>\n",
              "      <td>5</td>\n",
              "      <td>Female</td>\n",
              "      <td>29</td>\n",
              "      <td>1</td>\n",
              "      <td>41.0</td>\n",
              "      <td>1</td>\n",
              "      <td>&lt; 1 Year</td>\n",
              "      <td>No</td>\n",
              "      <td>27496.0</td>\n",
              "      <td>152.0</td>\n",
              "      <td>39</td>\n",
              "      <td>0</td>\n",
              "    </tr>\n",
              "  </tbody>\n",
              "</table>\n",
              "</div>"
            ],
            "text/plain": [
              "   id  Gender  Age  ...  Policy_Sales_Channel  Vintage  Response\n",
              "0   1    Male   44  ...                  26.0      217         1\n",
              "1   2    Male   76  ...                  26.0      183         0\n",
              "2   3    Male   47  ...                  26.0       27         1\n",
              "3   4    Male   21  ...                 152.0      203         0\n",
              "4   5  Female   29  ...                 152.0       39         0\n",
              "\n",
              "[5 rows x 12 columns]"
            ]
          },
          "metadata": {
            "tags": []
          },
          "execution_count": 31
        }
      ]
    },
    {
      "cell_type": "markdown",
      "metadata": {
        "id": "XCSZszig7u40"
      },
      "source": [
        "As some values of teh dataset are not numericals, we need to convert them."
      ]
    },
    {
      "cell_type": "code",
      "metadata": {
        "id": "QMjift_A70RA"
      },
      "source": [
        "df = data.drop(['id',], axis=1)\n",
        "df['Gender'] = df['Gender'].map( {'Female': 0, 'Male': 1} ).astype(int)"
      ],
      "execution_count": 32,
      "outputs": []
    },
    {
      "cell_type": "code",
      "metadata": {
        "id": "R2oc1yRo8CCU"
      },
      "source": [
        "df=pd.get_dummies(df,drop_first=True)"
      ],
      "execution_count": 33,
      "outputs": []
    },
    {
      "cell_type": "code",
      "metadata": {
        "id": "v6rwP_l68EHl"
      },
      "source": [
        "df=df.rename(columns={\"Vehicle_Age_< 1 Year\": \"Vehicle_Age_lt_1_Year\", \"Vehicle_Age_> 2 Years\": \"Vehicle_Age_gt_2_Years\"})\n",
        "df['Vehicle_Age_lt_1_Year']=df['Vehicle_Age_lt_1_Year'].astype('int')\n",
        "df['Vehicle_Age_gt_2_Years']=df['Vehicle_Age_gt_2_Years'].astype('int')\n",
        "df['Vehicle_Damage_Yes']=df['Vehicle_Damage_Yes'].astype('int')"
      ],
      "execution_count": 34,
      "outputs": []
    },
    {
      "cell_type": "code",
      "metadata": {
        "colab": {
          "base_uri": "https://localhost:8080/"
        },
        "id": "LEPISPcy8INI",
        "outputId": "3d445b6c-73af-4e51-9cff-1a0d8d56e094"
      },
      "source": [
        "df.columns"
      ],
      "execution_count": 35,
      "outputs": [
        {
          "output_type": "execute_result",
          "data": {
            "text/plain": [
              "Index(['Gender', 'Age', 'Driving_License', 'Region_Code', 'Previously_Insured',\n",
              "       'Annual_Premium', 'Policy_Sales_Channel', 'Vintage', 'Response',\n",
              "       'Vehicle_Age_lt_1_Year', 'Vehicle_Age_gt_2_Years',\n",
              "       'Vehicle_Damage_Yes'],\n",
              "      dtype='object')"
            ]
          },
          "metadata": {
            "tags": []
          },
          "execution_count": 35
        }
      ]
    },
    {
      "cell_type": "code",
      "metadata": {
        "id": "IwxrPiR68Pqv"
      },
      "source": [
        "from sklearn.linear_model import LogisticRegression\n",
        "from sklearn.neighbors import KNeighborsClassifier\n",
        "from sklearn.naive_bayes import GaussianNB\n",
        "from sklearn.tree import DecisionTreeClassifier\n",
        "from sklearn.svm import SVC\n",
        "from sklearn.ensemble import RandomForestClassifier\n",
        "from sklearn.ensemble import GradientBoostingClassifier\n",
        "from sklearn.metrics import precision_score, recall_score, confusion_matrix,accuracy_score\n",
        "from sklearn.metrics import f1_score, roc_auc_score, roc_curve,classification_report\n",
        "\n",
        "num_trees = 200\n",
        "max_features = 3\n",
        "models = []\n",
        "models.append(('LR',LogisticRegression()))\n",
        "models.append(('KNN',KNeighborsClassifier()))\n",
        "models.append(('DTC',DecisionTreeClassifier()))\n",
        "models.append(('RF',RandomForestClassifier(n_estimators=num_trees, max_features=max_features)))\n",
        "models.append(('NB',GaussianNB()))\n",
        "models.append(('SVM',SVC()))\n",
        "models.append(('GB',GradientBoostingClassifier()))"
      ],
      "execution_count": 36,
      "outputs": []
    },
    {
      "cell_type": "code",
      "metadata": {
        "id": "0HxPTBDV9ekh"
      },
      "source": [
        "from sklearn.model_selection import train_test_split\n",
        "X = df.drop(['Response'],axis=1)\n",
        "y = df['Response']\n",
        "X_train,X_test,y_train,y_test = train_test_split(X,y,test_size = 0.25,random_state = 101) "
      ],
      "execution_count": 37,
      "outputs": []
    },
    {
      "cell_type": "code",
      "metadata": {
        "id": "j3Fp463P9kWT"
      },
      "source": [
        "from sklearn.metrics import accuracy_score\n",
        "lr = LogisticRegression()\n",
        "knn=KNeighborsClassifier()\n",
        "nb=GaussianNB()\n",
        "dtc=DecisionTreeClassifier()\n",
        "sv=SVC()\n",
        "rf=RandomForestClassifier()\n",
        "gb = F=GradientBoostingClassifier()"
      ],
      "execution_count": 38,
      "outputs": []
    },
    {
      "cell_type": "markdown",
      "metadata": {
        "id": "OzZB7qk_98Li"
      },
      "source": [
        "Logistic Regression"
      ]
    },
    {
      "cell_type": "code",
      "metadata": {
        "colab": {
          "base_uri": "https://localhost:8080/"
        },
        "id": "jc6yoTrZ9tOP",
        "outputId": "22697efc-066d-4095-987b-aef30ecdacb0"
      },
      "source": [
        "lr = lr.fit(X_train,y_train)\n",
        "y_pred_lr = lr.predict(X_test)\n",
        "print(classification_report(y_test,y_pred_lr))"
      ],
      "execution_count": 39,
      "outputs": [
        {
          "output_type": "stream",
          "text": [
            "              precision    recall  f1-score   support\n",
            "\n",
            "           0       0.88      1.00      0.94     83703\n",
            "           1       0.00      0.00      0.00     11575\n",
            "\n",
            "    accuracy                           0.88     95278\n",
            "   macro avg       0.44      0.50      0.47     95278\n",
            "weighted avg       0.77      0.88      0.82     95278\n",
            "\n"
          ],
          "name": "stdout"
        },
        {
          "output_type": "stream",
          "text": [
            "/usr/local/lib/python3.6/dist-packages/sklearn/metrics/_classification.py:1272: UndefinedMetricWarning: Precision and F-score are ill-defined and being set to 0.0 in labels with no predicted samples. Use `zero_division` parameter to control this behavior.\n",
            "  _warn_prf(average, modifier, msg_start, len(result))\n"
          ],
          "name": "stderr"
        }
      ]
    },
    {
      "cell_type": "markdown",
      "metadata": {
        "id": "MmpT-UVc-FRW"
      },
      "source": [
        "KNN"
      ]
    },
    {
      "cell_type": "code",
      "metadata": {
        "colab": {
          "base_uri": "https://localhost:8080/"
        },
        "id": "vrsUXvtI-GJn",
        "outputId": "a020fe62-3e58-4668-ad17-4cef60645ae3"
      },
      "source": [
        "Knn = knn.fit(X_train,y_train)\n",
        "y_pred_knn = knn.predict(X_test)\n",
        "print(classification_report(y_test,y_pred_knn))"
      ],
      "execution_count": 40,
      "outputs": [
        {
          "output_type": "stream",
          "text": [
            "              precision    recall  f1-score   support\n",
            "\n",
            "           0       0.88      0.97      0.92     83703\n",
            "           1       0.22      0.06      0.09     11575\n",
            "\n",
            "    accuracy                           0.86     95278\n",
            "   macro avg       0.55      0.51      0.51     95278\n",
            "weighted avg       0.80      0.86      0.82     95278\n",
            "\n"
          ],
          "name": "stdout"
        }
      ]
    },
    {
      "cell_type": "markdown",
      "metadata": {
        "id": "EkkgoGRI-KSl"
      },
      "source": [
        "GaussianNB"
      ]
    },
    {
      "cell_type": "code",
      "metadata": {
        "colab": {
          "base_uri": "https://localhost:8080/"
        },
        "id": "-2bzdcWx-Ll3",
        "outputId": "cd9b5e01-a9fb-4dc3-f1d5-a9a13472733d"
      },
      "source": [
        "nb = nb.fit(X_train,y_train)\n",
        "y_pred_nb = nb.predict(X_test)\n",
        "print(classification_report(y_test,y_pred_nb))"
      ],
      "execution_count": 41,
      "outputs": [
        {
          "output_type": "stream",
          "text": [
            "              precision    recall  f1-score   support\n",
            "\n",
            "           0       0.91      0.89      0.90     83703\n",
            "           1       0.31      0.36      0.33     11575\n",
            "\n",
            "    accuracy                           0.82     95278\n",
            "   macro avg       0.61      0.62      0.61     95278\n",
            "weighted avg       0.84      0.82      0.83     95278\n",
            "\n"
          ],
          "name": "stdout"
        }
      ]
    },
    {
      "cell_type": "markdown",
      "metadata": {
        "id": "AXcolNNo-QQ0"
      },
      "source": [
        "Decision Tree Classifier"
      ]
    },
    {
      "cell_type": "code",
      "metadata": {
        "colab": {
          "base_uri": "https://localhost:8080/"
        },
        "id": "9aFsw3Zh-YbU",
        "outputId": "a75d0639-a24b-44a6-bbce-1047148ae3ec"
      },
      "source": [
        "dtc = dtc.fit(X_train,y_train)\n",
        "y_pred_dtc = dtc.predict(X_test)\n",
        "print(classification_report(y_test,y_pred_dtc))"
      ],
      "execution_count": 42,
      "outputs": [
        {
          "output_type": "stream",
          "text": [
            "              precision    recall  f1-score   support\n",
            "\n",
            "           0       0.90      0.89      0.90     83703\n",
            "           1       0.29      0.31      0.30     11575\n",
            "\n",
            "    accuracy                           0.82     95278\n",
            "   macro avg       0.60      0.60      0.60     95278\n",
            "weighted avg       0.83      0.82      0.83     95278\n",
            "\n"
          ],
          "name": "stdout"
        }
      ]
    },
    {
      "cell_type": "markdown",
      "metadata": {
        "id": "hi3L8oy_-ase"
      },
      "source": [
        "Random Forest"
      ]
    },
    {
      "cell_type": "code",
      "metadata": {
        "colab": {
          "base_uri": "https://localhost:8080/"
        },
        "id": "fdFptm_H-b-d",
        "outputId": "a5e415bc-1b92-4044-b595-5c124de2e5bb"
      },
      "source": [
        "rf = rf.fit(X_train,y_train)\n",
        "y_pred_rf = rf.predict(X_test)\n",
        "print(classification_report(y_test,y_pred_rf))"
      ],
      "execution_count": 43,
      "outputs": [
        {
          "output_type": "stream",
          "text": [
            "              precision    recall  f1-score   support\n",
            "\n",
            "           0       0.89      0.97      0.93     83703\n",
            "           1       0.35      0.11      0.17     11575\n",
            "\n",
            "    accuracy                           0.87     95278\n",
            "   macro avg       0.62      0.54      0.55     95278\n",
            "weighted avg       0.82      0.87      0.84     95278\n",
            "\n"
          ],
          "name": "stdout"
        }
      ]
    },
    {
      "cell_type": "markdown",
      "metadata": {
        "id": "HeD-aRMi-dnB"
      },
      "source": [
        "Gradient Boosting"
      ]
    },
    {
      "cell_type": "code",
      "metadata": {
        "colab": {
          "base_uri": "https://localhost:8080/"
        },
        "id": "bWlI8tcB-fKe",
        "outputId": "e3a6db5e-8fd1-45f1-d88b-af0b44211865"
      },
      "source": [
        "gb.fit(X_train,y_train)\n",
        "y_pred_gb = gb.predict(X_test)\n",
        "print(classification_report(y_test,y_pred_gb))"
      ],
      "execution_count": 44,
      "outputs": [
        {
          "output_type": "stream",
          "text": [
            "              precision    recall  f1-score   support\n",
            "\n",
            "           0       0.88      1.00      0.94     83703\n",
            "           1       0.20      0.00      0.00     11575\n",
            "\n",
            "    accuracy                           0.88     95278\n",
            "   macro avg       0.54      0.50      0.47     95278\n",
            "weighted avg       0.80      0.88      0.82     95278\n",
            "\n"
          ],
          "name": "stdout"
        }
      ]
    },
    {
      "cell_type": "markdown",
      "metadata": {
        "id": "FKSx2XLL-hAw"
      },
      "source": [
        "SVC"
      ]
    },
    {
      "cell_type": "code",
      "metadata": {
        "id": "MAtq4OoMDBCr",
        "colab": {
          "base_uri": "https://localhost:8080/"
        },
        "outputId": "02a6eee2-20c1-4800-e295-d356e83ea2e8"
      },
      "source": [
        "sv.fit(X_train,y_train)\n",
        "y_pred_sv = sv.predict(X_test)\n",
        "print(classification_report(y_test,y_pred_sv))"
      ],
      "execution_count": 45,
      "outputs": [
        {
          "output_type": "stream",
          "text": [
            "              precision    recall  f1-score   support\n",
            "\n",
            "           0       0.88      1.00      0.94     83703\n",
            "           1       0.00      0.00      0.00     11575\n",
            "\n",
            "    accuracy                           0.88     95278\n",
            "   macro avg       0.44      0.50      0.47     95278\n",
            "weighted avg       0.77      0.88      0.82     95278\n",
            "\n"
          ],
          "name": "stdout"
        },
        {
          "output_type": "stream",
          "text": [
            "/usr/local/lib/python3.6/dist-packages/sklearn/metrics/_classification.py:1272: UndefinedMetricWarning: Precision and F-score are ill-defined and being set to 0.0 in labels with no predicted samples. Use `zero_division` parameter to control this behavior.\n",
            "  _warn_prf(average, modifier, msg_start, len(result))\n"
          ],
          "name": "stderr"
        }
      ]
    },
    {
      "cell_type": "code",
      "metadata": {
        "colab": {
          "base_uri": "https://localhost:8080/",
          "height": 422
        },
        "id": "gP9iOBbqC8kZ",
        "outputId": "e1a58a5b-b3c6-4f2b-aed8-1d8a19ff558e"
      },
      "source": [
        "y_prediction = {'Orginal Response':[],'LogisticRegression_Y':[] ,'KNeighbors_Y': [],'NB_Y': [],'DecisionTree_Y': [],'RandomForest_Y': []}\n",
        "Response_Prediction = pd.DataFrame (y_prediction)\n",
        "for i in range(y_test.values.size):\n",
        "    Response_Prediction = Response_Prediction.append({'Orginal Response':y_test.values[i],'LogisticRegression_Y':y_pred_lr[i] ,'KNeighbors_Y': y_pred_knn[i],'NB_Y': y_pred_nb[i],'DecisionTree_Y': y_pred_dtc[i],'RandomForest_Y': y_pred_rf[i]},ignore_index=True)\n",
        "df"
      ],
      "execution_count": null,
      "outputs": [
        {
          "output_type": "execute_result",
          "data": {
            "text/html": [
              "<div>\n",
              "<style scoped>\n",
              "    .dataframe tbody tr th:only-of-type {\n",
              "        vertical-align: middle;\n",
              "    }\n",
              "\n",
              "    .dataframe tbody tr th {\n",
              "        vertical-align: top;\n",
              "    }\n",
              "\n",
              "    .dataframe thead th {\n",
              "        text-align: right;\n",
              "    }\n",
              "</style>\n",
              "<table border=\"1\" class=\"dataframe\">\n",
              "  <thead>\n",
              "    <tr style=\"text-align: right;\">\n",
              "      <th></th>\n",
              "      <th>Gender</th>\n",
              "      <th>Age</th>\n",
              "      <th>Driving_License</th>\n",
              "      <th>Region_Code</th>\n",
              "      <th>Previously_Insured</th>\n",
              "      <th>Annual_Premium</th>\n",
              "      <th>Policy_Sales_Channel</th>\n",
              "      <th>Vintage</th>\n",
              "      <th>Response</th>\n",
              "      <th>Vehicle_Age_lt_1_Year</th>\n",
              "      <th>Vehicle_Age_gt_2_Years</th>\n",
              "      <th>Vehicle_Damage_Yes</th>\n",
              "    </tr>\n",
              "  </thead>\n",
              "  <tbody>\n",
              "    <tr>\n",
              "      <th>0</th>\n",
              "      <td>1</td>\n",
              "      <td>44</td>\n",
              "      <td>1</td>\n",
              "      <td>28.0</td>\n",
              "      <td>0</td>\n",
              "      <td>40454.0</td>\n",
              "      <td>26.0</td>\n",
              "      <td>217</td>\n",
              "      <td>1</td>\n",
              "      <td>0</td>\n",
              "      <td>1</td>\n",
              "      <td>1</td>\n",
              "    </tr>\n",
              "    <tr>\n",
              "      <th>1</th>\n",
              "      <td>1</td>\n",
              "      <td>76</td>\n",
              "      <td>1</td>\n",
              "      <td>3.0</td>\n",
              "      <td>0</td>\n",
              "      <td>33536.0</td>\n",
              "      <td>26.0</td>\n",
              "      <td>183</td>\n",
              "      <td>0</td>\n",
              "      <td>0</td>\n",
              "      <td>0</td>\n",
              "      <td>0</td>\n",
              "    </tr>\n",
              "    <tr>\n",
              "      <th>2</th>\n",
              "      <td>1</td>\n",
              "      <td>47</td>\n",
              "      <td>1</td>\n",
              "      <td>28.0</td>\n",
              "      <td>0</td>\n",
              "      <td>38294.0</td>\n",
              "      <td>26.0</td>\n",
              "      <td>27</td>\n",
              "      <td>1</td>\n",
              "      <td>0</td>\n",
              "      <td>1</td>\n",
              "      <td>1</td>\n",
              "    </tr>\n",
              "    <tr>\n",
              "      <th>3</th>\n",
              "      <td>1</td>\n",
              "      <td>21</td>\n",
              "      <td>1</td>\n",
              "      <td>11.0</td>\n",
              "      <td>1</td>\n",
              "      <td>28619.0</td>\n",
              "      <td>152.0</td>\n",
              "      <td>203</td>\n",
              "      <td>0</td>\n",
              "      <td>1</td>\n",
              "      <td>0</td>\n",
              "      <td>0</td>\n",
              "    </tr>\n",
              "    <tr>\n",
              "      <th>4</th>\n",
              "      <td>0</td>\n",
              "      <td>29</td>\n",
              "      <td>1</td>\n",
              "      <td>41.0</td>\n",
              "      <td>1</td>\n",
              "      <td>27496.0</td>\n",
              "      <td>152.0</td>\n",
              "      <td>39</td>\n",
              "      <td>0</td>\n",
              "      <td>1</td>\n",
              "      <td>0</td>\n",
              "      <td>0</td>\n",
              "    </tr>\n",
              "    <tr>\n",
              "      <th>...</th>\n",
              "      <td>...</td>\n",
              "      <td>...</td>\n",
              "      <td>...</td>\n",
              "      <td>...</td>\n",
              "      <td>...</td>\n",
              "      <td>...</td>\n",
              "      <td>...</td>\n",
              "      <td>...</td>\n",
              "      <td>...</td>\n",
              "      <td>...</td>\n",
              "      <td>...</td>\n",
              "      <td>...</td>\n",
              "    </tr>\n",
              "    <tr>\n",
              "      <th>381104</th>\n",
              "      <td>1</td>\n",
              "      <td>74</td>\n",
              "      <td>1</td>\n",
              "      <td>26.0</td>\n",
              "      <td>1</td>\n",
              "      <td>30170.0</td>\n",
              "      <td>26.0</td>\n",
              "      <td>88</td>\n",
              "      <td>0</td>\n",
              "      <td>0</td>\n",
              "      <td>0</td>\n",
              "      <td>0</td>\n",
              "    </tr>\n",
              "    <tr>\n",
              "      <th>381105</th>\n",
              "      <td>1</td>\n",
              "      <td>30</td>\n",
              "      <td>1</td>\n",
              "      <td>37.0</td>\n",
              "      <td>1</td>\n",
              "      <td>40016.0</td>\n",
              "      <td>152.0</td>\n",
              "      <td>131</td>\n",
              "      <td>0</td>\n",
              "      <td>1</td>\n",
              "      <td>0</td>\n",
              "      <td>0</td>\n",
              "    </tr>\n",
              "    <tr>\n",
              "      <th>381106</th>\n",
              "      <td>1</td>\n",
              "      <td>21</td>\n",
              "      <td>1</td>\n",
              "      <td>30.0</td>\n",
              "      <td>1</td>\n",
              "      <td>35118.0</td>\n",
              "      <td>160.0</td>\n",
              "      <td>161</td>\n",
              "      <td>0</td>\n",
              "      <td>1</td>\n",
              "      <td>0</td>\n",
              "      <td>0</td>\n",
              "    </tr>\n",
              "    <tr>\n",
              "      <th>381107</th>\n",
              "      <td>0</td>\n",
              "      <td>68</td>\n",
              "      <td>1</td>\n",
              "      <td>14.0</td>\n",
              "      <td>0</td>\n",
              "      <td>44617.0</td>\n",
              "      <td>124.0</td>\n",
              "      <td>74</td>\n",
              "      <td>0</td>\n",
              "      <td>0</td>\n",
              "      <td>1</td>\n",
              "      <td>1</td>\n",
              "    </tr>\n",
              "    <tr>\n",
              "      <th>381108</th>\n",
              "      <td>1</td>\n",
              "      <td>46</td>\n",
              "      <td>1</td>\n",
              "      <td>29.0</td>\n",
              "      <td>0</td>\n",
              "      <td>41777.0</td>\n",
              "      <td>26.0</td>\n",
              "      <td>237</td>\n",
              "      <td>0</td>\n",
              "      <td>0</td>\n",
              "      <td>0</td>\n",
              "      <td>0</td>\n",
              "    </tr>\n",
              "  </tbody>\n",
              "</table>\n",
              "<p>381109 rows × 12 columns</p>\n",
              "</div>"
            ],
            "text/plain": [
              "        Gender  Age  ...  Vehicle_Age_gt_2_Years  Vehicle_Damage_Yes\n",
              "0            1   44  ...                       1                   1\n",
              "1            1   76  ...                       0                   0\n",
              "2            1   47  ...                       1                   1\n",
              "3            1   21  ...                       0                   0\n",
              "4            0   29  ...                       0                   0\n",
              "...        ...  ...  ...                     ...                 ...\n",
              "381104       1   74  ...                       0                   0\n",
              "381105       1   30  ...                       0                   0\n",
              "381106       1   21  ...                       0                   0\n",
              "381107       0   68  ...                       1                   1\n",
              "381108       1   46  ...                       0                   0\n",
              "\n",
              "[381109 rows x 12 columns]"
            ]
          },
          "metadata": {
            "tags": []
          },
          "execution_count": 30
        }
      ]
    }
  ]
}